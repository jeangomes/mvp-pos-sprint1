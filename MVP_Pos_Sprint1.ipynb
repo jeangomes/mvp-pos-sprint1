{
  "nbformat": 4,
  "nbformat_minor": 0,
  "metadata": {
    "colab": {
      "provenance": [],
      "authorship_tag": "ABX9TyP5veXYWSpZndBiKmmkqEHH",
      "include_colab_link": true
    },
    "kernelspec": {
      "name": "python3",
      "display_name": "Python 3"
    },
    "language_info": {
      "name": "python"
    }
  },
  "cells": [
    {
      "cell_type": "markdown",
      "metadata": {
        "id": "view-in-github",
        "colab_type": "text"
      },
      "source": [
        "<a href=\"https://colab.research.google.com/github/jeangomes/mvp-pos-sprint1/blob/main/MVP_Pos_Sprint1.ipynb\" target=\"_parent\"><img src=\"https://colab.research.google.com/assets/colab-badge.svg\" alt=\"Open In Colab\"/></a>"
      ]
    },
    {
      "cell_type": "markdown",
      "source": [
        "# MVP - Curso de Pós Graduação em Data Science - Sprint 1\n",
        "Estarei utilizando um dataset do Kaggle, sobre bullyng nas escolas, baseado em uma pesquisa na Argentina com mais de 50 mil estudantes.\n"
      ],
      "metadata": {
        "id": "m3W9taASRryv"
      }
    },
    {
      "cell_type": "code",
      "execution_count": null,
      "metadata": {
        "id": "O-N5SAvGRYPN"
      },
      "outputs": [],
      "source": []
    }
  ]
}